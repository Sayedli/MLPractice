{
 "cells": [
  {
   "cell_type": "code",
   "execution_count": 3,
   "metadata": {
    "colab": {
     "base_uri": "https://localhost:8080/"
    },
    "id": "1vTfC8h_ev4M",
    "outputId": "01c57208-93a6-47b9-be03-eeb0883a158c"
   },
   "outputs": [
    {
     "name": "stdout",
     "output_type": "stream",
     "text": [
      "Enter weight in pounds: 12\n",
      "12.0 lb. is approximately 5.44 kg.\n"
     ]
    }
   ],
   "source": [
    "# Exercise 3.1\n",
    "\n",
    "def pounds_to_kg(pounds):\n",
    "    \"\"\"\n",
    "    Convert pounds to kilograms.\n",
    "    1 pound ≈ 0.45359237 kilograms\n",
    "    \"\"\"\n",
    "    return pounds * 0.45359237\n",
    "\n",
    "# Prompt user for weight in pounds\n",
    "weight_in_pounds = float(input(\"Enter weight in pounds: \"))\n",
    "weight_in_kg = pounds_to_kg(weight_in_pounds)\n",
    "print(f\"{weight_in_pounds} lb. is approximately {weight_in_kg:.2f} kg.\")\n"
   ]
  },
  {
   "cell_type": "code",
   "execution_count": 11,
   "metadata": {
    "colab": {
     "base_uri": "https://localhost:8080/"
    },
    "id": "Sf0B8Qf3fGut",
    "outputId": "5b034335-a2d4-4ae0-bb8b-d00421ae5864"
   },
   "outputs": [
    {
     "name": "stdout",
     "output_type": "stream",
     "text": [
      "Please enter annual income (e.g., 123000): 1231312\n",
      "Choose filing status (1=single, 2=married, 3=head of household): 2\n",
      "For a filing status of 2 with an income of $1231312.0, the taxable income is $1206912.0.\n"
     ]
    }
   ],
   "source": [
    "# Exercise 3.2\n",
    "\n",
    "def calcTaxable(income, Fstat):\n",
    "    \"\"\"\n",
    "    Return the taxable income after subtracting the standard deduction.\n",
    "    filing_status: 1 = single, 2 = married filing jointly, 3 = head of household\n",
    "    \"\"\"\n",
    "    # Setting standard deduction based on the filing status\n",
    "    if Fstat == 1:\n",
    "        deduction = 12200  # single\n",
    "    elif Fstat == 2:\n",
    "        deduction = 24400  # married filing jointly\n",
    "    elif Fstat == 3:\n",
    "        deduction = 18350  # head of household\n",
    "    else:\n",
    "        raise ValueError(\"Invalid filing status. Must be 1, 2, or 3.\")\n",
    "\n",
    "    # If income is less than or equal to the deduction, taxable income is 0\n",
    "    if income <= deduction:\n",
    "        return 0\n",
    "    else:\n",
    "        return income - deduction\n",
    "\n",
    "# Asking user for their income\n",
    "userIncome = input(\"Please enter annual income (e.g., 123000): \")\n",
    "# Asking user for their filing status\n",
    "userFstat = input(\"Choose filing status (1=single, 2=married, 3=head of household): \")\n",
    "\n",
    "# Converting user inputs into the appropriate types\n",
    "income = float(userIncome)\n",
    "Fstat = int(userFstat)\n",
    "\n",
    "# Calculating the taxable income and print the result\n",
    "taxable = calcTaxable(income, Fstat)\n",
    "print(f\"For a filing status of {Fstat} with an income of ${income}, \"\n",
    "      f\"the taxable income is ${taxable}.\")\n"
   ]
  },
  {
   "cell_type": "code",
   "execution_count": null,
   "metadata": {
    "id": "5wSB0jNYgEHU"
   },
   "outputs": [],
   "source": []
  }
 ],
 "metadata": {
  "colab": {
   "provenance": []
  },
  "kernelspec": {
   "display_name": "Python [conda env:base] *",
   "language": "python",
   "name": "conda-base-py"
  },
  "language_info": {
   "codemirror_mode": {
    "name": "ipython",
    "version": 3
   },
   "file_extension": ".py",
   "mimetype": "text/x-python",
   "name": "python",
   "nbconvert_exporter": "python",
   "pygments_lexer": "ipython3",
   "version": "3.12.7"
  }
 },
 "nbformat": 4,
 "nbformat_minor": 4
}
