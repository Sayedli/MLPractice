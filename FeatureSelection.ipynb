{
 "cells": [
  {
   "cell_type": "code",
   "execution_count": 3,
   "id": "5a1c92c5",
   "metadata": {},
   "outputs": [
    {
     "name": "stdout",
     "output_type": "stream",
     "text": [
      "      Present_Tmax  Present_Tmin  LDAPS_RHmin  LDAPS_RHmax  LDAPS_Tmax_lapse  \\\n",
      "0             28.7          21.4    58.255688    91.116364         28.074101   \n",
      "1             31.9          21.6    52.263397    90.604721         29.850689   \n",
      "2             31.6          23.3    48.690479    83.973587         30.091292   \n",
      "3             32.0          23.4    58.239788    96.483688         29.704629   \n",
      "4             31.4          21.9    56.174095    90.155128         29.113934   \n",
      "...            ...           ...          ...          ...               ...   \n",
      "7746          22.5          17.4    30.094858    83.690018         26.704905   \n",
      "7747          23.3          17.1    26.741310    78.869858         26.352081   \n",
      "7748          23.3          17.7    24.040634    77.294975         27.010193   \n",
      "7749          23.2          17.4    22.933014    77.243744         27.939516   \n",
      "7751          37.6          29.9    98.524734   100.000153         38.542255   \n",
      "\n",
      "      LDAPS_Tmin_lapse   LDAPS_WS    LDAPS_LH  LDAPS_CC1  LDAPS_CC2  ...  \\\n",
      "0            23.006936   6.818887   69.451805   0.233947   0.203896  ...   \n",
      "1            24.035009   5.691890   51.937448   0.225508   0.251771  ...   \n",
      "2            24.565633   6.138224   20.573050   0.209344   0.257469  ...   \n",
      "3            23.326177   5.650050   65.727144   0.216372   0.226002  ...   \n",
      "4            23.486480   5.735004  107.965535   0.151407   0.249995  ...   \n",
      "...                ...        ...         ...        ...        ...  ...   \n",
      "7746         17.814038   5.768083   82.146707   0.066461   0.024518  ...   \n",
      "7747         18.775678   6.148918   72.058294   0.030034   0.081035  ...   \n",
      "7748         18.733519   6.542819   47.241457   0.035874   0.074962  ...   \n",
      "7749         18.522965   7.289264    9.090034   0.048954   0.059869  ...   \n",
      "7751         29.619342  21.857621  213.414006   0.967277   0.968353  ...   \n",
      "\n",
      "      LDAPS_PPT2  LDAPS_PPT3  LDAPS_PPT4      lat      lon       DEM    Slope  \\\n",
      "0       0.000000    0.000000    0.000000  37.6046  126.991  212.3350  2.78500   \n",
      "1       0.000000    0.000000    0.000000  37.6046  127.032   44.7624  0.51410   \n",
      "2       0.000000    0.000000    0.000000  37.5776  127.058   33.3068  0.26610   \n",
      "3       0.000000    0.000000    0.000000  37.6450  127.022   45.7160  2.53480   \n",
      "4       0.000000    0.000000    0.000000  37.5507  127.135   35.0380  0.50550   \n",
      "...          ...         ...         ...      ...      ...       ...      ...   \n",
      "7746    0.000000    0.000000    0.000000  37.5102  127.086   21.9668  0.13320   \n",
      "7747    0.000000    0.000000    0.000000  37.5372  126.891   15.5876  0.15540   \n",
      "7748    0.000000    0.000000    0.000000  37.5237  126.909   17.2956  0.22230   \n",
      "7749    0.000000    0.000000    0.000000  37.5237  126.970   19.5844  0.27130   \n",
      "7751   21.621661   15.841235   16.655469  37.6450  127.135  212.3350  5.17823   \n",
      "\n",
      "      Solar radiation  Next_Tmax  Next_Tmin  \n",
      "0         5992.895996       29.1       21.2  \n",
      "1         5869.312500       30.5       22.5  \n",
      "2         5863.555664       31.1       23.9  \n",
      "3         5856.964844       31.7       24.3  \n",
      "4         5859.552246       31.2       22.5  \n",
      "...               ...        ...        ...  \n",
      "7746      4441.803711       28.0       17.1  \n",
      "7747      4443.313965       28.3       18.1  \n",
      "7748      4438.373535       28.6       18.8  \n",
      "7749      4451.345215       27.8       17.4  \n",
      "7751      5992.895996       38.9       29.8  \n",
      "\n",
      "[7586 rows x 23 columns]\n"
     ]
    }
   ],
   "source": [
    "# Author: Hassan Ali\n",
    "# Import libraries \n",
    "import pandas as pd\n",
    "import numpy as np\n",
    "from sklearn.feature_selection import SelectKBest\n",
    "from sklearn.feature_selection import chi2\n",
    "from sklearn.ensemble import ExtraTreesClassifier\n",
    "\n",
    "# Loading dataset \n",
    "df = pd.read_csv('Bias_correction_ucl.csv')\n",
    "\n",
    "# Dropping specific uneeded columns ('station', and 'Date')\n",
    "df = df.drop(columns=['station', 'Date'])\n",
    "# Removing rows with negative values and then drop any rows with missing values\n",
    "df = df[df >= 0].dropna()\n",
    "# Printing the cleaned DataFrame\n",
    "print(df)"
   ]
  },
  {
   "cell_type": "code",
   "execution_count": 5,
   "id": "e7e92234",
   "metadata": {},
   "outputs": [
    {
     "name": "stdout",
     "output_type": "stream",
     "text": [
      "(7586, 5)\n"
     ]
    }
   ],
   "source": [
    "# Preparing the feature matrix 'X' by dropping the column 'Next_Tmax' from the DataFrame\n",
    "X = df.drop(columns=['Next_Tmax'])\n",
    "# Get the target variable 'y' ready by converting 'Next_Tmax' values to binary classes\n",
    "# np.where function is used here to verify each value within the 'Next_Tmax' column of 'df' DataFrame.\n",
    "# The test condition is if all values are greater than 30.\n",
    "# If the condition is fulfilled (value > 30), a 1 is placed in the corresponding position of the new array 'y'.\n",
    "# If the condition is not fulfilled (value <= 30), then 0 is stored in the relative position of the new array 'y'.\n",
    "y = np.where(df['Next_Tmax'] > 30, 1, 0)\n",
    "\n",
    "# Initializing SelectKBest to select the top 5 features based on the chi-squared test\n",
    "X_new = SelectKBest(chi2, k=5).fit_transform(X, y)\n",
    "# Printing the shape of the transformed feature matrix to show the number of features selected\n",
    "print(X_new.shape)"
   ]
  },
  {
   "cell_type": "code",
   "execution_count": 7,
   "id": "fe48a33a",
   "metadata": {},
   "outputs": [
    {
     "name": "stdout",
     "output_type": "stream",
     "text": [
      "[19 16 15 17 14 18 12 13  7  3  6  1 20  2 11  8  0  5 10  9 21  4]\n"
     ]
    }
   ],
   "source": [
    "# Creating an Extra Trees classifier. \n",
    "# This classifier fits several randomized decision trees (a forest) on various sub-samples of the dataset\n",
    "# and uses averaging to improve the predictive accuracy and prevent over-fitting.\n",
    "#'n_estimators=100' means 100 trees have to be created in this forest\n",
    "#'random_state=42' controls the randomness to be deterministic such that results can be reproduced whenever the code is run.\n",
    "clf = ExtraTreesClassifier(n_estimators=100, random_state=42)\n",
    "\n",
    "# Training the classifier. \n",
    "# 'fit' method is used to train the model using the training data. \n",
    "# 'X' represents the features from the training data, and 'y' represents the labels.\n",
    "clf = clf.fit(X, y)\n",
    "\n",
    "# Get the indices of the features sorted by their importance in ascending order\n",
    "tree_importance_sorted_idx = np.argsort(clf.feature_importances_)\n",
    "# Print the indices of the sorted features\n",
    "print(tree_importance_sorted_idx)"
   ]
  },
  {
   "cell_type": "code",
   "execution_count": null,
   "id": "99d9d0e3",
   "metadata": {},
   "outputs": [],
   "source": [
    "# This list of indices is in order of feature importance from least to most\n",
    "# important. The feature at index 19 is the least important, and the feature at index 4 is\n",
    "# the most important in assisting the model in making its decisions."
   ]
  }
 ],
 "metadata": {
  "kernelspec": {
   "display_name": "Python [conda env:base] *",
   "language": "python",
   "name": "conda-base-py"
  },
  "language_info": {
   "codemirror_mode": {
    "name": "ipython",
    "version": 3
   },
   "file_extension": ".py",
   "mimetype": "text/x-python",
   "name": "python",
   "nbconvert_exporter": "python",
   "pygments_lexer": "ipython3",
   "version": "3.12.7"
  }
 },
 "nbformat": 4,
 "nbformat_minor": 5
}
