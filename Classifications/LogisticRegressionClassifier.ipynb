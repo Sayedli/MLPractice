{
 "cells": [
  {
   "cell_type": "code",
   "execution_count": 126,
   "id": "6a71f73e-817e-4dd0-a8ca-361281750be2",
   "metadata": {},
   "outputs": [],
   "source": [
    "# Author: Hassan Ali\n",
    "# Importing libraries \n",
    "import numpy as np\n",
    "import pandas as pd  \n",
    "import statsmodels.api as sm  \n",
    "from sklearn.model_selection import train_test_split  \n",
    "from sklearn.metrics import accuracy_score, confusion_matrix \n",
    "import matplotlib.pyplot as plt  \n",
    "from sklearn.metrics import roc_curve, roc_auc_score  "
   ]
  },
  {
   "cell_type": "code",
   "execution_count": 158,
   "id": "5f9abfe2-6610-442c-919a-335afd1c3872",
   "metadata": {},
   "outputs": [],
   "source": [
    "# Loading dataset\n",
    "sn_df = pd.read_csv('Social_Network_Ads.csv')"
   ]
  },
  {
   "cell_type": "code",
   "execution_count": 218,
   "id": "3ec538c7-ae55-448f-bafd-51b760b6186f",
   "metadata": {},
   "outputs": [],
   "source": [
    "# Preprocessing data and converting 'Gender' from catagorical to binary 0s and 1s for Male and Female\n",
    "sn_df['Gender'].replace(['Male', 'Female'], [1, 0], inplace=True) "
   ]
  },
  {
   "cell_type": "code",
   "execution_count": 162,
   "id": "a4420e1c-f44c-4cc4-a6a4-ba6703baac34",
   "metadata": {},
   "outputs": [],
   "source": [
    "# Defining features and target variable\n",
    "X = sn_df.drop(columns=['Purchased'])  # Define feature variables (all columns except 'Purchased')\n",
    "y = sn_df['Purchased']"
   ]
  },
  {
   "cell_type": "code",
   "execution_count": 206,
   "id": "f8113acd-1187-413f-9a27-7898fa26c61e",
   "metadata": {},
   "outputs": [],
   "source": [
    "# Splitting dataset 70:30 into training & testing sets\n",
    "X_train, X_test, y_train, y_test = train_test_split(X, y, test_size=0.30)"
   ]
  },
  {
   "cell_type": "code",
   "execution_count": 208,
   "id": "56facc48-4ae3-4d90-87a2-ca936d62b872",
   "metadata": {},
   "outputs": [
    {
     "name": "stdout",
     "output_type": "stream",
     "text": [
      "                           Logit Regression Results                           \n",
      "==============================================================================\n",
      "Dep. Variable:              Purchased   No. Observations:                  280\n",
      "Model:                          Logit   Df Residuals:                      275\n",
      "Method:                           MLE   Df Model:                            4\n",
      "Date:                Mon, 10 Feb 2025   Pseudo R-squ.:                  0.4416\n",
      "Time:                        09:25:19   Log-Likelihood:                -103.15\n",
      "converged:                       True   LL-Null:                       -184.72\n",
      "Covariance Type:            nonrobust   LLR p-value:                 3.101e-34\n",
      "===================================================================================\n",
      "                      coef    std err          z      P>|z|      [0.025      0.975]\n",
      "-----------------------------------------------------------------------------------\n",
      "const             -17.9210     39.484     -0.454      0.650     -95.308      59.466\n",
      "User ID          4.105e-07   2.52e-06      0.163      0.870   -4.52e-06    5.34e-06\n",
      "Gender              0.3015      0.356      0.848      0.397      -0.396       0.999\n",
      "Age                 0.2165      0.028      7.645      0.000       0.161       0.272\n",
      "EstimatedSalary  3.045e-05   6.04e-06      5.045      0.000    1.86e-05    4.23e-05\n",
      "===================================================================================\n"
     ]
    }
   ],
   "source": [
    "# Fitting logistic regression model on training set & printing summary\n",
    "logmodel = sm.Logit(y_train, sm.add_constant(X_train)).fit(disp=False)  # Fit a logistic regression model on the training set\n",
    "print(logmodel.summary()) "
   ]
  },
  {
   "cell_type": "code",
   "execution_count": 210,
   "id": "b80a6087-0b76-4c1b-a988-b8bfd8cba32e",
   "metadata": {},
   "outputs": [],
   "source": [
    "# Prediction and model evaluation\n",
    "predictions = logmodel.predict(sm.add_constant(X_test))  # Predict probabilities of 'Purchased' on the test set\n",
    "bin_predictions = [1 if x >= 0.5 else 0 for x in predictions] "
   ]
  },
  {
   "cell_type": "code",
   "execution_count": 212,
   "id": "23259b7b-6991-4f1d-ac43-cfd7d9dca12f",
   "metadata": {},
   "outputs": [
    {
     "name": "stdout",
     "output_type": "stream",
     "text": [
      "0.8916666666666667\n",
      "[[77  4]\n",
      " [ 9 30]]\n"
     ]
    }
   ],
   "source": [
    "# Calculating & printing model accuracy aswell as confusion matrix\n",
    "print(accuracy_score(y_test, bin_predictions))  \n",
    "print(confusion_matrix(y_test, bin_predictions))"
   ]
  },
  {
   "cell_type": "code",
   "execution_count": 214,
   "id": "cd600019-3742-4122-88de-fcac2d937c5b",
   "metadata": {},
   "outputs": [],
   "source": [
    "# ROC Curve and AUC Score for False Positive Rate, True Positive Rate & thresholds for ROC curve\n",
    "fpr, tpr, thresholds = roc_curve(y_test, predictions)  \n",
    "roc_auc = roc_auc_score(y_test, predictions)"
   ]
  },
  {
   "cell_type": "code",
   "execution_count": 216,
   "id": "4ed1aabb-52ff-4e75-8fc8-421b86b1dc1d",
   "metadata": {},
   "outputs": [
    {
     "data": {
      "image/png": "[encoded data removed]",
      "text/plain": [
       "<Figure size 640x480 with 1 Axes>"
      ]
     },
     "metadata": {},
     "output_type": "display_data"
    }
   ],
   "source": [
    "# ROC Curve plot\n",
    "plt.plot(fpr, tpr, label='ROC Curve (area = %0.3f)' % roc_auc)  \n",
    "plt.title('ROC Curve (area = %0.3f)' % roc_auc)  \n",
    "plt.xlabel('False Positive Rate')  \n",
    "plt.ylabel('True Positive Rate')  \n",
    "plt.legend(loc=\"lower right\")  \n",
    "plt.show()  "
   ]
  }
 ],
 "metadata": {
  "kernelspec": {
   "display_name": "Python [conda env:base] *",
   "language": "python",
   "name": "conda-base-py"
  },
  "language_info": {
   "codemirror_mode": {
    "name": "ipython",
    "version": 3
   },
   "file_extension": ".py",
   "mimetype": "text/x-python",
   "name": "python",
   "nbconvert_exporter": "python",
   "pygments_lexer": "ipython3",
   "version": "3.12.7"
  }
 },
 "nbformat": 4,
 "nbformat_minor": 5
}
