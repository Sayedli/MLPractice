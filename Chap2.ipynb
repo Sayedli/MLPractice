{
 "cells": [
  {
   "cell_type": "code",
   "execution_count": 4,
   "id": "e553b456-9a79-4046-8877-a37cfee481fa",
   "metadata": {},
   "outputs": [
    {
     "name": "stdin",
     "output_type": "stream",
     "text": [
      "Enter your age:  12\n"
     ]
    },
    {
     "name": "stdout",
     "output_type": "stream",
     "text": [
      "You are not in high school.\n"
     ]
    }
   ],
   "source": [
    "# Exercise 2.1 (Student or not?)\n",
    "\n",
    "age = int(input(\"Enter your age: \"))\n",
    "\n",
    "if 14 <= age <= 18:\n",
    "    print(\"You are in high school.\")\n",
    "else:\n",
    "    print(\"You are not in high school.\")\n"
   ]
  },
  {
   "cell_type": "code",
   "execution_count": 6,
   "id": "b1936a1e-2235-43fc-8f42-97580ce55c27",
   "metadata": {},
   "outputs": [
    {
     "name": "stdin",
     "output_type": "stream",
     "text": [
      "Enter temperature in Celsius:  12\n"
     ]
    },
    {
     "name": "stdout",
     "output_type": "stream",
     "text": [
      "12.0°C is 53.6°F.\n"
     ]
    }
   ],
   "source": [
    "# Exercise 2.5 (Celcius to Farenheit conversion)\n",
    "\n",
    "def tempConversion(celsius):\n",
    "    return (celsius * 9/5) + 32\n",
    "\n",
    "cTemp = float(input(\"Enter temperature in Celsius: \"))\n",
    "fTemp = tempConversion(cTemp)\n",
    "print(f\"{cTemp}°C is {fTemp}°F.\")\n"
   ]
  },
  {
   "cell_type": "code",
   "execution_count": 8,
   "id": "0a488fd5-d351-443e-9db4-c9f5f2fd0b52",
   "metadata": {},
   "outputs": [
    {
     "name": "stdin",
     "output_type": "stream",
     "text": [
      "Enter the quantity of items to add:  12\n",
      "Input item #1:  12e1\n",
      "Input item #2:  12\n",
      "Input item #3:  qwd\n",
      "Input item #4:  qwq\n",
      "Input item #5:  wdq\n",
      "Input item #6:  wdqw\n",
      "Input item #7:  dqw\n",
      "Input item #8:  dqw\n",
      "Input item #9:  dq\n",
      "Input item #10:  dq\n",
      "Input item #11:  wdq\n",
      "Input item #12:  dqw\n"
     ]
    },
    {
     "name": "stdout",
     "output_type": "stream",
     "text": [
      "The Updated Inventory Includes:\n",
      "12e1\n",
      "12\n",
      "qwd\n",
      "qwq\n",
      "wdq\n",
      "wdqw\n",
      "dqw\n",
      "dqw\n",
      "dq\n",
      "dq\n",
      "wdq\n",
      "dqw\n"
     ]
    }
   ],
   "source": [
    "# Exercise 2.7 (Inventory Updates)\n",
    "\n",
    "# Updating Inventory with a set quantity of items from user input\n",
    "# Getting item quantity \n",
    "n = int(input(\"Enter the quantity of items to add: \"))\n",
    "\n",
    "# Initializing list and looping to store items\n",
    "items = []\n",
    "for i in range(n):\n",
    "    item_name = input(f\"Input item #{i+1}: \")\n",
    "    items.append(item_name)\n",
    "\n",
    "# Printing updated Inventory\n",
    "print(\"The Updated Inventory Includes:\")\n",
    "for item in items:\n",
    "    print(item)"
   ]
  },
  {
   "cell_type": "code",
   "execution_count": null,
   "id": "809f9348-76f7-46e1-ade7-2ada0b02020f",
   "metadata": {},
   "outputs": [],
   "source": []
  }
 ],
 "metadata": {
  "kernelspec": {
   "display_name": "Python [conda env:CSS455]",
   "language": "python",
   "name": "conda-env-CSS455-py"
  },
  "language_info": {
   "codemirror_mode": {
    "name": "ipython",
    "version": 3
   },
   "file_extension": ".py",
   "mimetype": "text/x-python",
   "name": "python",
   "nbconvert_exporter": "python",
   "pygments_lexer": "ipython3",
   "version": "3.12.8"
  }
 },
 "nbformat": 4,
 "nbformat_minor": 5
}
