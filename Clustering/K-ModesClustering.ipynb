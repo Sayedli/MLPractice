{
 "cells": [
  {
   "cell_type": "code",
   "execution_count": 10,
   "id": "7d3cce8f",
   "metadata": {},
   "outputs": [],
   "source": [
    "# Author: Hassan Ali\n",
    "# Importing libraries\n",
    "import pandas as pd  \n",
    "import numpy as np  \n",
    "from kmodes.kmodes import KModes  "
   ]
  },
  {
   "cell_type": "code",
   "execution_count": 12,
   "id": "2736dbc3",
   "metadata": {},
   "outputs": [],
   "source": [
    "# Creating numpy arrays for each variable, where variables contain categorical data.\n",
    "v1 = np.array(['M', 'M', 'N', 'O', 'O', 'N', 'N', 'N', 'M', 'N'])\n",
    "v2 = np.array(['Q', 'Q', 'P', 'Q', 'R', 'P', 'P', 'R', 'O', 'P'])\n",
    "v3 = np.array(['X', 'Z', 'Z', 'W', 'Y', 'X', 'W', 'Y', 'X', 'Y'])"
   ]
  },
  {
   "cell_type": "code",
   "execution_count": 14,
   "id": "afc9fb57",
   "metadata": {},
   "outputs": [
    {
     "name": "stdout",
     "output_type": "stream",
     "text": [
      "Init: initializing centroids\n",
      "Init: initializing clusters\n",
      "Starting iterations...\n",
      "Run 1, iteration: 1/100, moves: 0, cost: 9.0\n",
      "Init: initializing centroids\n",
      "Init: initializing clusters\n",
      "Starting iterations...\n",
      "Run 2, iteration: 1/100, moves: 3, cost: 8.0\n",
      "Run 2, iteration: 2/100, moves: 0, cost: 8.0\n",
      "Init: initializing centroids\n",
      "Init: initializing clusters\n",
      "Starting iterations...\n",
      "Run 3, iteration: 1/100, moves: 2, cost: 9.0\n",
      "Run 3, iteration: 2/100, moves: 1, cost: 9.0\n",
      "Init: initializing centroids\n",
      "Init: initializing clusters\n",
      "Starting iterations...\n",
      "Run 4, iteration: 1/100, moves: 0, cost: 8.0\n",
      "Init: initializing centroids\n",
      "Init: initializing clusters\n",
      "Starting iterations...\n",
      "Run 5, iteration: 1/100, moves: 0, cost: 10.0\n",
      "Best run was number 2\n",
      "   Cluster v1 v2 v3\n",
      "0        2  M  Q  X\n",
      "1        2  M  Q  Z\n",
      "2        0  N  P  Z\n",
      "3        0  O  Q  W\n",
      "4        1  O  R  Y\n",
      "5        0  N  P  X\n",
      "6        0  N  P  W\n",
      "7        1  N  R  Y\n",
      "8        2  M  O  X\n",
      "9        0  N  P  Y\n"
     ]
    }
   ],
   "source": [
    "# Creating a pandas DataFrame from the arrays. This structure is suitable for the KModes algorithm.\n",
    "data = pd.DataFrame({'v1':v1, 'v2':v2, 'v3':v3})\n",
    "\n",
    "# Initializing the KModes algorithm with specified parameters:\n",
    "# - n_clusters=2 indicates that the algorithm will try to find 2 clusters.\n",
    "# - init=\"random\" means the initial centroids will be chosen randomly.\n",
    "# - n_init=5 means the algorithm will run with 5 different centroid seeds and the best output in terms of inertia will be chosen.\n",
    "# - verbose=1 will print out logging information about the process.\n",
    "kmode = KModes(n_clusters=3, init = \"random\", n_init = 5, verbose=1)\n",
    "\n",
    "# Fitting the KModes model on the data and predicting clusters for each entry.\n",
    "clusters = kmode.fit_predict(data)\n",
    "\n",
    "# Inserting the predicted clusters into the original DataFrame as the first column.\n",
    "# \"True\" in the last argument specifies that if the column \"Cluster\" exists, it will be overwritten.\n",
    "data.insert(0, \"Cluster\", clusters, True)\n",
    "\n",
    "# Printing the DataFrame to see the result with clusters.\n",
    "print(data)"
   ]
  },
  {
   "cell_type": "code",
   "execution_count": 16,
   "id": "79d87980",
   "metadata": {},
   "outputs": [],
   "source": [
    "# When using k-means with verbose=1, detailed information about the algorithm's progress is printed. \n",
    "# This is particularly useful for debugging or understanding the convergence process. \n",
    "# Here's a breakdown of what an example output:\n",
    "\n",
    "# \"Run 1\": This indicates the current execution of the k-means algorithm. If multiple initializations are used \n",
    "# to avoid local minima, each \"run\" starts with a different set of randomly initialized centroids.\n",
    "\n",
    "# \"Iteration: 1/100\": Shows the current iteration number out of a maximum set (in this case, 100). The k-means \n",
    "# algorithm iterates by reassigning data points to the nearest cluster centroid and then recalculating centroids \n",
    "# based on the current cluster memberships. This repeats until the algorithm meets its convergence criteria \n",
    "# or reaches the maximum number of iterations.\n",
    "\n",
    "# \"Moves: 0\": Indicates the number of data points that changed their cluster assignment in this iteration. \n",
    "# A move count of 0 means no points were reassigned to a different cluster, suggesting all points are currently \n",
    "# closest to their assigned centroid.\n",
    "\n",
    "# \"Cost: 13.0\": Represents the total within-cluster variance, or the sum of squared distances between each \n",
    "# data point and its assigned cluster's centroid. The k-means algorithm aims to minimize this cost. \n",
    "# A cost of 13.0 indicates the total cost at this iteration, with the goal being to reduce this value as \n",
    "# the algorithm progresses and centroids are adjusted to better fit the data points."
   ]
  }
 ],
 "metadata": {
  "kernelspec": {
   "display_name": "Python [conda env:base] *",
   "language": "python",
   "name": "conda-base-py"
  },
  "language_info": {
   "codemirror_mode": {
    "name": "ipython",
    "version": 3
   },
   "file_extension": ".py",
   "mimetype": "text/x-python",
   "name": "python",
   "nbconvert_exporter": "python",
   "pygments_lexer": "ipython3",
   "version": "3.12.7"
  }
 },
 "nbformat": 4,
 "nbformat_minor": 5
}
