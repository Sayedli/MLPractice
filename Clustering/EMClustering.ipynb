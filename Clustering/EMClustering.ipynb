{
 "cells": [
  {
   "cell_type": "code",
   "execution_count": 2,
   "id": "b02927c8",
   "metadata": {},
   "outputs": [],
   "source": [
    "# Author: Hassan Ali\n",
    "# Importing libraries \n",
    "import matplotlib.pyplot as plt  # Used for plotting graphs\n",
    "import pandas as pd  # Used for data manipulation and analysis\n",
    "\n",
    "# Import machine learning algorithms and dataset utilities\n",
    "from sklearn.mixture import GaussianMixture  # Imports the Gaussian Mixture Model for clustering\n",
    "# The `GaussianMixture` class from `sklearn.mixture` is a powerful tool for implementing\n",
    "# the Expectation-Maximization (EM) algorithm for clustering.\n",
    "# GaussianMixture is used to implement EM because it efficiently estimates the parameters of multiple Gaussian distributions\n",
    "# in a dataset, allowing for soft clustering by probabilistically assigning data points to clusters based on these distributions."
   ]
  },
  {
   "cell_type": "code",
   "execution_count": 94,
   "id": "e972065d",
   "metadata": {},
   "outputs": [
    {
     "name": "stdout",
     "output_type": "stream",
     "text": [
      "AIC Score: -276.6015621815873\n",
      "BIC Score: 117.77695174471222\n"
     ]
    },
    {
     "name": "stderr",
     "output_type": "stream",
     "text": [
      "/var/folders/3h/c2t_l2y13hb72x3mf8g1xf6w0000gn/T/ipykernel_39780/1210010109.py:8: FutureWarning: Downcasting behavior in `replace` is deprecated and will be removed in a future version. To retain the old behavior, explicitly call `result.infer_objects(copy=False)`. To opt-in to the future behavior, set `pd.set_option('future.no_silent_downcasting', True)`\n",
      "  df['UNS'] = df['UNS'].replace({'very_low': 0, 'Low': 1, 'Middle': 2, 'High': 3}).astype(int)\n"
     ]
    }
   ],
   "source": [
    "# Load the dataset from a CSV file\n",
    "df = pd.read_csv('User_knowledge.csv')  # Load data into a pandas DataFrame\n",
    "\n",
    "# Make a copy of the DataFrame to avoid chained assignment issues\n",
    "df = df.copy()\n",
    "\n",
    "# Replace string values in the 'UNS' column with numerical values and cast to int\n",
    "df['UNS'] = df['UNS'].replace({'very_low': 0, 'Low': 1, 'Middle': 2, 'High': 3}).astype(int)\n",
    "\n",
    "# Initialize the Gaussian Mixture Model for clustering with 4 components\n",
    "# 'init_params' is set to 'random' to start with randomly chosen means,\n",
    "# and 'covariance_type' is set to 'full' to allow each component its own general covariance matrix.\n",
    "em_gaussian = GaussianMixture(n_components=4, init_params='random', covariance_type='full')\n",
    "\n",
    "# Fit the model on the dataset and predict the cluster for each instance\n",
    "cluster_preds = em_gaussian.fit_predict(df)\n",
    "\n",
    "# Evaluate the model using Akaike Information Criterion (AIC) and Bayesian Information Criterion (BIC)\n",
    "aic_score = em_gaussian.aic(df)\n",
    "bic_score = em_gaussian.bic(df)\n",
    "\n",
    "print(\"AIC Score:\", aic_score)\n",
    "print(\"BIC Score:\", bic_score)"
   ]
  },
  {
   "cell_type": "code",
   "execution_count": null,
   "id": "9b7a0b7e-e012-47c8-bcd8-3fff8119b36a",
   "metadata": {},
   "outputs": [],
   "source": []
  }
 ],
 "metadata": {
  "kernelspec": {
   "display_name": "Python [conda env:base] *",
   "language": "python",
   "name": "conda-base-py"
  },
  "language_info": {
   "codemirror_mode": {
    "name": "ipython",
    "version": 3
   },
   "file_extension": ".py",
   "mimetype": "text/x-python",
   "name": "python",
   "nbconvert_exporter": "python",
   "pygments_lexer": "ipython3",
   "version": "3.12.7"
  }
 },
 "nbformat": 4,
 "nbformat_minor": 5
}
