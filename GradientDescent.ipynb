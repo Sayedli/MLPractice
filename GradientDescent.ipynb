{
 "cells": [
  {
   "cell_type": "code",
   "execution_count": 2,
   "metadata": {
    "colab": {
     "base_uri": "https://localhost:8080/"
    },
    "executionInfo": {
     "elapsed": 19642,
     "status": "ok",
     "timestamp": 1739926908587,
     "user": {
      "displayName": "Hassan",
      "userId": "14595311463986436125"
     },
     "user_tz": 480
    },
    "id": "70dsNE5AnZ4z",
    "outputId": "4847abc2-797f-4968-e93d-74c6c6f41853"
   },
   "outputs": [],
   "source": [
    "# Author: Hassan Ali"
   ]
  },
  {
   "cell_type": "code",
   "execution_count": 31,
   "metadata": {
    "colab": {
     "base_uri": "https://localhost:8080/",
     "height": 260
    },
    "executionInfo": {
     "elapsed": 15976,
     "status": "ok",
     "timestamp": 1739926926263,
     "user": {
      "displayName": "Hassan",
      "userId": "14595311463986436125"
     },
     "user_tz": 480
    },
    "id": "z487Hvu1oUp4",
    "outputId": "0230fbb9-7cc6-4a04-e237-d0af9db3e629"
   },
   "outputs": [
    {
     "data": {
      "text/html": [
       "<div>\n",
       "<style scoped>\n",
       "    .dataframe tbody tr th:only-of-type {\n",
       "        vertical-align: middle;\n",
       "    }\n",
       "\n",
       "    .dataframe tbody tr th {\n",
       "        vertical-align: top;\n",
       "    }\n",
       "\n",
       "    .dataframe thead th {\n",
       "        text-align: right;\n",
       "    }\n",
       "</style>\n",
       "<table border=\"1\" class=\"dataframe\">\n",
       "  <thead>\n",
       "    <tr style=\"text-align: right;\">\n",
       "      <th></th>\n",
       "      <th>Erythema\\tScathing\\tDefinite Borders\\tItching\\tKoebner \\tPolygonal\\tFollicular\\tOral\\tKnee\\tScalp\\tFamily Hostory\\tMelanin\\tEosinophils\\tPNL\\tFibrosis\\tExocytosis\\tAcanothosis\\tHyperkeratosis\\tParakeratosis\\tClubbing\\tElongation\\tThinning\\tSpongiform\\tMunro\\tFocal\\tDisapperance\\tVacuolisation\\tSpongiosis\\tRetes\\tFollicular\\tPerifollicular\\tInflamatory\\tBand-like\\tAge\\tDisease</th>\n",
       "    </tr>\n",
       "  </thead>\n",
       "  <tbody>\n",
       "    <tr>\n",
       "      <th>0</th>\n",
       "      <td>2\\t2\\t0\\t3\\t0\\t0\\t0\\t0\\t1\\t0\\t0\\t0\\t0\\t0\\t0\\t3...</td>\n",
       "    </tr>\n",
       "    <tr>\n",
       "      <th>1</th>\n",
       "      <td>3\\t3\\t3\\t2\\t1\\t0\\t0\\t0\\t1\\t1\\t1\\t0\\t0\\t1\\t0\\t1...</td>\n",
       "    </tr>\n",
       "    <tr>\n",
       "      <th>2</th>\n",
       "      <td>2\\t1\\t2\\t3\\t1\\t3\\t0\\t3\\t0\\t0\\t0\\t1\\t0\\t0\\t0\\t1...</td>\n",
       "    </tr>\n",
       "    <tr>\n",
       "      <th>3</th>\n",
       "      <td>2\\t2\\t2\\t0\\t0\\t0\\t0\\t0\\t3\\t2\\t0\\t0\\t0\\t3\\t0\\t0...</td>\n",
       "    </tr>\n",
       "    <tr>\n",
       "      <th>4</th>\n",
       "      <td>2\\t3\\t2\\t2\\t2\\t2\\t0\\t2\\t0\\t0\\t0\\t1\\t0\\t0\\t0\\t1...</td>\n",
       "    </tr>\n",
       "  </tbody>\n",
       "</table>\n",
       "</div>"
      ],
      "text/plain": [
       "  Erythema\\tScathing\\tDefinite Borders\\tItching\\tKoebner \\tPolygonal\\tFollicular\\tOral\\tKnee\\tScalp\\tFamily Hostory\\tMelanin\\tEosinophils\\tPNL\\tFibrosis\\tExocytosis\\tAcanothosis\\tHyperkeratosis\\tParakeratosis\\tClubbing\\tElongation\\tThinning\\tSpongiform\\tMunro\\tFocal\\tDisapperance\\tVacuolisation\\tSpongiosis\\tRetes\\tFollicular\\tPerifollicular\\tInflamatory\\tBand-like\\tAge\\tDisease\n",
       "0  2\\t2\\t0\\t3\\t0\\t0\\t0\\t0\\t1\\t0\\t0\\t0\\t0\\t0\\t0\\t3...                                                                                                                                                                                                                                                                                                                                        \n",
       "1  3\\t3\\t3\\t2\\t1\\t0\\t0\\t0\\t1\\t1\\t1\\t0\\t0\\t1\\t0\\t1...                                                                                                                                                                                                                                                                                                                                        \n",
       "2  2\\t1\\t2\\t3\\t1\\t3\\t0\\t3\\t0\\t0\\t0\\t1\\t0\\t0\\t0\\t1...                                                                                                                                                                                                                                                                                                                                        \n",
       "3  2\\t2\\t2\\t0\\t0\\t0\\t0\\t0\\t3\\t2\\t0\\t0\\t0\\t3\\t0\\t0...                                                                                                                                                                                                                                                                                                                                        \n",
       "4  2\\t3\\t2\\t2\\t2\\t2\\t0\\t2\\t0\\t0\\t0\\t1\\t0\\t0\\t0\\t1...                                                                                                                                                                                                                                                                                                                                        "
      ]
     },
     "execution_count": 31,
     "metadata": {},
     "output_type": "execute_result"
    }
   ],
   "source": [
    "#  Problem 1: Dermatology Data Analysis\n",
    "\n",
    "# Importing libraries and setting up dataframe\n",
    "import numpy as np\n",
    "import pandas as pd\n",
    "import matplotlib.pyplot as plt\n",
    "import seaborn as sns\n",
    "\n",
    "from sklearn.model_selection import train_test_split\n",
    "from sklearn.preprocessing import LabelEncoder, StandardScaler\n",
    "from sklearn.metrics import mean_squared_error, accuracy_score, confusion_matrix, classification_report\n",
    "from sklearn.metrics import adjusted_rand_score, normalized_mutual_info_score\n",
    "from sklearn.ensemble import RandomForestClassifier\n",
    "from sklearn.neighbors import KNeighborsClassifier\n",
    "from sklearn.cluster import KMeans, AgglomerativeClustering # KMeans: From scikit-learn, a clustering method for partitioning a data set into a set of groups.\n",
    "\n",
    "import statsmodels.api as sm\n",
    "\n",
    "df = pd.read_csv('dermatology.csv')\n",
    "df.head()"
   ]
  },
  {
   "cell_type": "code",
   "execution_count": 33,
   "metadata": {
    "colab": {
     "base_uri": "https://localhost:8080/"
    },
    "executionInfo": {
     "elapsed": 248,
     "status": "ok",
     "timestamp": 1739926926557,
     "user": {
      "displayName": "Hassan",
      "userId": "14595311463986436125"
     },
     "user_tz": 480
    },
    "id": "12HHJhPZo0q3",
    "outputId": "8a0b03c0-7cb9-4dd3-e463-afc56db7d0af"
   },
   "outputs": [
    {
     "name": "stdout",
     "output_type": "stream",
     "text": [
      "Numeric conversion resulted in all NaNs. Retrying with tab delimiter...\n",
      "Dataset shape: (358, 36)\n",
      "   Erythema  Scaling  Definite_borders  Itching  Koebner_phenomenon  \\\n",
      "0         2        2                 0        3                   0   \n",
      "1         3        3                 3        2                   1   \n",
      "2         2        1                 2        3                   1   \n",
      "3         2        2                 2        0                   0   \n",
      "4         2        3                 2        2                   2   \n",
      "\n",
      "   Polygonal_papules  Follicular_papules  Oral_mucosal_involvement  \\\n",
      "0                  0                   0                         0   \n",
      "1                  0                   0                         0   \n",
      "2                  3                   0                         3   \n",
      "3                  0                   0                         0   \n",
      "4                  2                   0                         2   \n",
      "\n",
      "   Knee_elbow_involvement  Scalp_involvement  ...  \\\n",
      "0                       1                  0  ...   \n",
      "1                       1                  1  ...   \n",
      "2                       0                  0  ...   \n",
      "3                       3                  2  ...   \n",
      "4                       0                  0  ...   \n",
      "\n",
      "   Vacuolization_damage_basal_layer  Spongiosis  Saw_tooth_retes  \\\n",
      "0                                 0           3                0   \n",
      "1                                 0           0                0   \n",
      "2                                 2           3                2   \n",
      "3                                 0           0                0   \n",
      "4                                 3           2                3   \n",
      "\n",
      "   Follicular_horn_plug  Perifollicular_parakeratosis  \\\n",
      "0                     0                             0   \n",
      "1                     0                             0   \n",
      "2                     0                             0   \n",
      "3                     0                             0   \n",
      "4                     0                             0   \n",
      "\n",
      "   Inflammatory_mononuclear_infiltrate  Band_like_infiltrate   Age  Disease  \\\n",
      "0                                    1                     0  55.0        2   \n",
      "1                                    1                     0   8.0        1   \n",
      "2                                    2                     3  26.0        3   \n",
      "3                                    3                     0  40.0        1   \n",
      "4                                    2                     3  45.0        3   \n",
      "\n",
      "   Disease_encoded  \n",
      "0                1  \n",
      "1                0  \n",
      "2                2  \n",
      "3                0  \n",
      "4                2  \n",
      "\n",
      "[5 rows x 36 columns]\n"
     ]
    }
   ],
   "source": [
    "# Loading Data and Preprocessing\n",
    "#\n",
    "# Expecting:\n",
    "# - Columns 1–33: Clinical and histopathological features.\n",
    "# - Column 34: Age.\n",
    "# - Column 35: Disease.\n",
    "#\n",
    "# The code first attempts to read the file using a comma delimiter. If converting the expected feature columns to numeric yields all NaNs (indicating a possible delimiter issue), it retries with a tab delimiter. If the file is read as a single column, it splits that column by tab.\n",
    "# Finally, rows with missing values are dropped and the Disease label is encoded.\n",
    "\n",
    "\n",
    "file_path = 'dermatology.csv'\n",
    "\n",
    "# Including expected column names for verification (35 columns)\n",
    "column_names = [\n",
    "    'Erythema', 'Scaling', 'Definite_borders', 'Itching', 'Koebner_phenomenon',\n",
    "    'Polygonal_papules', 'Follicular_papules', 'Oral_mucosal_involvement',\n",
    "    'Knee_elbow_involvement', 'Scalp_involvement', 'Family_history',\n",
    "    'Melanin_incontinence', 'Eosinophils_infiltrate', 'PNL_infiltrate',\n",
    "    'Fibrosis_papillary_dermis', 'Exocytosis', 'Acanthosis', 'Hyperkeratosis',\n",
    "    'Parakeratosis', 'Clubbing_rete_ridges', 'Elongation_rete_ridges',\n",
    "    'Thinning_suprapapillary_epidermis', 'Spongiform_pustule',\n",
    "    'Munro_microabscess', 'Focal_hypergranulosis', 'Disappearance_granular_layer',\n",
    "    'Vacuolization_damage_basal_layer', 'Spongiosis', 'Saw_tooth_retes',\n",
    "    'Follicular_horn_plug', 'Perifollicular_parakeratosis',\n",
    "    'Inflammatory_mononuclear_infiltrate', 'Band_like_infiltrate',\n",
    "    'Age', 'Disease'\n",
    "]\n",
    "feature_cols = column_names[:-1]  # All except 'Disease'\n",
    "\n",
    "# Reading with comma delimiter\n",
    "try:\n",
    "    df = pd.read_csv(file_path, header=0)\n",
    "except Exception as e:\n",
    "    raise ValueError(\"Error reading the file with comma delimiter: \" + str(e))\n",
    "\n",
    "if df.shape[1] != len(column_names):\n",
    "    df = pd.read_csv(file_path, header=None, names=column_names)\n",
    "\n",
    "df[feature_cols] = df[feature_cols].apply(pd.to_numeric, errors='coerce')\n",
    "\n",
    "# Use tab delimiter when conversion results in all NaNs for features.\n",
    "if df[feature_cols].isna().all().all():\n",
    "    print(\"Numeric conversion resulted in all NaNs. Retrying with tab delimiter...\")\n",
    "    df = pd.read_csv(file_path, sep='\\t', header=0)\n",
    "    if df.shape[1] == 1:\n",
    "        df = df.iloc[:, 0].str.split('\\t', expand=True)\n",
    "    if df.shape[1] != len(column_names):\n",
    "        df.columns = column_names\n",
    "    else:\n",
    "        df.columns = column_names\n",
    "    df[feature_cols] = df[feature_cols].apply(pd.to_numeric, errors='coerce')\n",
    "\n",
    "df = df.dropna().reset_index(drop=True)\n",
    "if df.empty:\n",
    "    raise ValueError(\"The DataFrame is empty after cleaning. Check the CSV file, its delimiter, and header configuration.\")\n",
    "\n",
    "le = LabelEncoder()\n",
    "df['Disease_encoded'] = le.fit_transform(df['Disease'])\n",
    "\n",
    "print(\"Dataset shape:\", df.shape)\n",
    "print(df.head())"
   ]
  },
  {
   "cell_type": "code",
   "execution_count": 35,
   "metadata": {
    "colab": {
     "base_uri": "https://localhost:8080/",
     "height": 948
    },
    "executionInfo": {
     "elapsed": 726,
     "status": "ok",
     "timestamp": 1739926927284,
     "user": {
      "displayName": "Hassan",
      "userId": "14595311463986436125"
     },
     "user_tz": 480
    },
    "id": "iVvuUx4g6w4F",
    "outputId": "d1bb32ca-7af2-4f89-de92-0027a862c5df"
   },
   "outputs": [
    {
     "name": "stdout",
     "output_type": "stream",
     "text": [
      "\n",
      "--- Model 1: Gradient Descent Regression ---\n",
      "Learned parameters (theta_0, theta_1): [0.04188103 0.03673503]\n",
      "Mean Squared Error: 3.4688612435917774\n",
      "\n",
      "OLS Regression Results:\n",
      "                            OLS Regression Results                            \n",
      "==============================================================================\n",
      "Dep. Variable:                      y   R-squared:                       0.064\n",
      "Model:                            OLS   Adj. R-squared:                  0.062\n",
      "Method:                 Least Squares   F-statistic:                     24.46\n",
      "Date:                Tue, 18 Feb 2025   Prob (F-statistic):           1.17e-06\n",
      "Time:                        19:52:52   Log-Likelihood:                -662.49\n",
      "No. Observations:                 358   AIC:                             1329.\n",
      "Df Residuals:                     356   BIC:                             1337.\n",
      "Df Model:                           1                                         \n",
      "Covariance Type:            nonrobust                                         \n",
      "==============================================================================\n",
      "                 coef    std err          t      P>|t|      [0.025      0.975]\n",
      "------------------------------------------------------------------------------\n",
      "const          2.7393      0.210     13.041      0.000       2.326       3.152\n",
      "Age           -0.0264      0.005     -4.945      0.000      -0.037      -0.016\n",
      "==============================================================================\n",
      "Omnibus:                      147.565   Durbin-Watson:                   1.509\n",
      "Prob(Omnibus):                  0.000   Jarque-Bera (JB):               23.318\n",
      "Skew:                           0.254   Prob(JB):                     8.64e-06\n",
      "Kurtosis:                       1.858   Cond. No.                         101.\n",
      "==============================================================================\n",
      "\n",
      "Notes:\n",
      "[1] Standard Errors assume that the covariance matrix of the errors is correctly specified.\n"
     ]
    },
    {
     "data": {
      "image/png": "[encoded data removed]",
      "text/plain": [
       "<Figure size 800x400 with 1 Axes>"
      ]
     },
     "metadata": {},
     "output_type": "display_data"
    }
   ],
   "source": [
    "# Model 1: Regression using Gradient Descent\n",
    "#\n",
    "# Predict the encoded disease type using only the patient's Age.\n",
    "#\n",
    "# We model:\n",
    "#\n",
    "# \\[\n",
    "# \\hat{y} = \\theta_0 + \\theta_1 \\times \\text{Age}\n",
    "# \\]\n",
    "#\n",
    "# Using gradient descent to minimize the Mean Squared Error (MSE).\n",
    "#\n",
    "# Fitting an OLS regression using statsmodels right before plotting the cost history on the same predictor and print its summary.\n",
    "\n",
    "\n",
    "X_age = df['Age'].values\n",
    "y_disease = df['Disease_encoded'].values\n",
    "\n",
    "def gradient_descent(X, y, theta, alpha, num_iters):\n",
    "    m = len(y)\n",
    "    if m == 0:\n",
    "        raise ValueError(\"No data available for gradient descent (m=0).\")\n",
    "    cost_history = []\n",
    "    for i in range(num_iters):\n",
    "        predictions = theta[0] + theta[1] * X\n",
    "        error = predictions - y\n",
    "        cost = (1/(2*m)) * np.sum(error**2)\n",
    "        cost_history.append(cost)\n",
    "        theta[0] -= alpha * (1/m) * np.sum(error)\n",
    "        theta[1] -= alpha * (1/m) * np.sum(error * X)\n",
    "    return theta, cost_history\n",
    "\n",
    "theta_init = np.zeros(2)\n",
    "alpha = 0.0001\n",
    "num_iters = 1000\n",
    "\n",
    "theta_learned, cost_history = gradient_descent(X_age, y_disease, theta_init, alpha, num_iters)\n",
    "y_pred_gd = theta_learned[0] + theta_learned[1] * X_age\n",
    "mse_gd = mean_squared_error(y_disease, y_pred_gd)\n",
    "\n",
    "print(\"\\n--- Model 1: Gradient Descent Regression ---\")\n",
    "print(\"Learned parameters (theta_0, theta_1):\", theta_learned)\n",
    "print(\"Mean Squared Error:\", mse_gd)\n",
    "\n",
    "# Fit an OLS regression model using Age as predictor for comparison.\n",
    "X_age_ols = sm.add_constant(df['Age'])\n",
    "ols_model = sm.OLS(y_disease, X_age_ols).fit()\n",
    "print(\"\\nOLS Regression Results:\")\n",
    "print(ols_model.summary())\n",
    "\n",
    "plt.figure(figsize=(8, 4))\n",
    "plt.plot(range(num_iters), cost_history, color='blue')\n",
    "plt.xlabel('Iterations')\n",
    "plt.ylabel('Cost (MSE)')\n",
    "plt.title('Cost History (Gradient Descent)')\n",
    "plt.grid(True)\n",
    "plt.show()\n"
   ]
  },
  {
   "cell_type": "code",
   "execution_count": 37,
   "metadata": {
    "colab": {
     "base_uri": "https://localhost:8080/"
    },
    "executionInfo": {
     "elapsed": 488,
     "status": "ok",
     "timestamp": 1739926927774,
     "user": {
      "displayName": "Hassan",
      "userId": "14595311463986436125"
     },
     "user_tz": 480
    },
    "id": "bluyp8Zo62VB",
    "outputId": "99984836-1249-4fb7-c89a-f1ac1f27be94"
   },
   "outputs": [
    {
     "name": "stdout",
     "output_type": "stream",
     "text": [
      "\n",
      "--- Model 2: Random Forest Classifier ---\n",
      "Accuracy: 98.61%\n",
      "\n",
      "Classification Report:\n",
      "               precision    recall  f1-score   support\n",
      "\n",
      "           0       1.00      1.00      1.00        22\n",
      "           1       1.00      0.93      0.96        14\n",
      "           2       1.00      1.00      1.00        14\n",
      "           3       0.89      1.00      0.94         8\n",
      "           4       1.00      1.00      1.00        12\n",
      "           5       1.00      1.00      1.00         2\n",
      "\n",
      "    accuracy                           0.99        72\n",
      "   macro avg       0.98      0.99      0.98        72\n",
      "weighted avg       0.99      0.99      0.99        72\n",
      "\n",
      "Confusion Matrix:\n",
      " [[22  0  0  0  0  0]\n",
      " [ 0 13  0  1  0  0]\n",
      " [ 0  0 14  0  0  0]\n",
      " [ 0  0  0  8  0  0]\n",
      " [ 0  0  0  0 12  0]\n",
      " [ 0  0  0  0  0  2]]\n"
     ]
    }
   ],
   "source": [
    "# Model 2: Random Forest Classifier\n",
    "#\n",
    "# Classify the disease type using all features (clinical, histopathological, and Age).\n",
    "#\n",
    "# Split the data into training and testing sets, train a Random Forest classifier, and evaluate its performance.\n",
    "#\n",
    "# Accuracy, classification report, and a basic confusion matrix (printed as a numeric array).\n",
    "\n",
    "\n",
    "features = column_names[:-1]\n",
    "X_all = df[features]\n",
    "y_all = df['Disease_encoded']\n",
    "\n",
    "X_train, X_test, y_train, y_test = train_test_split(X_all, y_all, test_size=0.2, random_state=42) #Splitting Training set 80:20\n",
    "\n",
    "rf_model = RandomForestClassifier(n_estimators=100, random_state=42)\n",
    "rf_model.fit(X_train, y_train)\n",
    "rf_preds = rf_model.predict(X_test)\n",
    "rf_accuracy = accuracy_score(y_test, rf_preds)\n",
    "\n",
    "print(\"\\n--- Model 2: Random Forest Classifier ---\")\n",
    "print(\"Accuracy: {:.2f}%\".format(rf_accuracy * 100))\n",
    "print(\"\\nClassification Report:\\n\", classification_report(y_test, rf_preds))\n",
    "print(\"Confusion Matrix:\\n\", confusion_matrix(y_test, rf_preds))"
   ]
  },
  {
   "cell_type": "code",
   "execution_count": 39,
   "metadata": {
    "colab": {
     "base_uri": "https://localhost:8080/"
    },
    "executionInfo": {
     "elapsed": 141,
     "status": "ok",
     "timestamp": 1739926927917,
     "user": {
      "displayName": "Hassan",
      "userId": "14595311463986436125"
     },
     "user_tz": 480
    },
    "id": "89Ma3jaZ65hs",
    "outputId": "a5cf95c1-44b6-4fd8-980b-ce05af049c96"
   },
   "outputs": [
    {
     "name": "stdout",
     "output_type": "stream",
     "text": [
      "\n",
      "--- Model 3: kNN Classifier ---\n",
      "Accuracy: 83.33%\n",
      "\n",
      "Classification Report:\n",
      "               precision    recall  f1-score   support\n",
      "\n",
      "           0       1.00      0.95      0.98        22\n",
      "           1       0.80      0.57      0.67        14\n",
      "           2       1.00      0.93      0.96        14\n",
      "           3       0.44      0.88      0.58         8\n",
      "           4       1.00      0.75      0.86        12\n",
      "           5       0.67      1.00      0.80         2\n",
      "\n",
      "    accuracy                           0.83        72\n",
      "   macro avg       0.82      0.85      0.81        72\n",
      "weighted avg       0.89      0.83      0.85        72\n",
      "\n",
      "Confusion Matrix:\n",
      " [[21  1  0  0  0  0]\n",
      " [ 0  8  0  6  0  0]\n",
      " [ 0  0 13  1  0  0]\n",
      " [ 0  1  0  7  0  0]\n",
      " [ 0  0  0  2  9  1]\n",
      " [ 0  0  0  0  0  2]]\n"
     ]
    }
   ],
   "source": [
    "# Model 3: k-Nearest Neighbors (kNN) Classifier\n",
    "#\n",
    "# Classify the disease type using the kNN algorithm (with k=5) on all features.\n",
    "#\n",
    "# Train a kNN classifier, predict on the test set, and evaluate its performance.\n",
    "#\n",
    "# Accuracy, classification report, and a basic printed confusion matrix.\n",
    "\n",
    "knn_model = KNeighborsClassifier(n_neighbors=5)\n",
    "knn_model.fit(X_train, y_train)\n",
    "knn_preds = knn_model.predict(X_test)\n",
    "knn_accuracy = accuracy_score(y_test, knn_preds)\n",
    "\n",
    "print(\"\\n--- Model 3: kNN Classifier ---\")\n",
    "print(\"Accuracy: {:.2f}%\".format(knn_accuracy * 100))\n",
    "print(\"\\nClassification Report:\\n\", classification_report(y_test, knn_preds))\n",
    "print(\"Confusion Matrix:\\n\", confusion_matrix(y_test, knn_preds))"
   ]
  },
  {
   "cell_type": "code",
   "execution_count": 41,
   "metadata": {
    "colab": {
     "base_uri": "https://localhost:8080/"
    },
    "executionInfo": {
     "elapsed": 85,
     "status": "ok",
     "timestamp": 1739926928012,
     "user": {
      "displayName": "Hassan",
      "userId": "14595311463986436125"
     },
     "user_tz": 480
    },
    "id": "dPZzn98F6-ED",
    "outputId": "c0fe25a9-5ed2-4b32-93d1-b6a55ff732d5"
   },
   "outputs": [
    {
     "name": "stdout",
     "output_type": "stream",
     "text": [
      "\n",
      "--- Model 4: k-Means Clustering ---\n",
      "Adjusted Rand Index (ARI): 0.788\n",
      "Normalized Mutual Information (NMI): 0.879\n"
     ]
    }
   ],
   "source": [
    "# Model 4: k-Means Clustering\n",
    "#\n",
    "#\n",
    "# Use unsupervised k-Means clustering on all features to examine if natural clusters align with the true disease groups.\n",
    "#\n",
    "#\n",
    "# Clustering performance is assessed using the Adjusted Rand Index (ARI) and Normalized Mutual Information (NMI).\n",
    "\n",
    "scaler = StandardScaler()\n",
    "X_scaled = scaler.fit_transform(X_all)\n",
    "\n",
    "kmeans = KMeans(n_clusters=6, random_state=42)\n",
    "clusters_kmeans = kmeans.fit_predict(X_scaled)\n",
    "ari_kmeans = adjusted_rand_score(y_all, clusters_kmeans)\n",
    "nmi_kmeans = normalized_mutual_info_score(y_all, clusters_kmeans)\n",
    "\n",
    "print(\"\\n--- Model 4: k-Means Clustering ---\")\n",
    "print(\"Adjusted Rand Index (ARI): {:.3f}\".format(ari_kmeans))\n",
    "print(\"Normalized Mutual Information (NMI): {:.3f}\".format(nmi_kmeans))\n"
   ]
  },
  {
   "cell_type": "code",
   "execution_count": 43,
   "metadata": {
    "colab": {
     "base_uri": "https://localhost:8080/"
    },
    "executionInfo": {
     "elapsed": 6,
     "status": "ok",
     "timestamp": 1739926928016,
     "user": {
      "displayName": "Hassan",
      "userId": "14595311463986436125"
     },
     "user_tz": 480
    },
    "id": "W-1sGGso7AsT",
    "outputId": "23e610ef-9aee-4585-97c2-e2b7ab05230d"
   },
   "outputs": [
    {
     "name": "stdout",
     "output_type": "stream",
     "text": [
      "\n",
      "--- Model 5: Agglomerative Clustering ---\n",
      "Adjusted Rand Index (ARI): 0.711\n",
      "Normalized Mutual Information (NMI): 0.869\n"
     ]
    }
   ],
   "source": [
    "# Model 5: Agglomerative Clustering\n",
    "#\n",
    "#\n",
    "# Use Agglomerative Clustering on all features to examine if natural clusters align with the true disease groups.\n",
    "#\n",
    "#\n",
    "# The performance is measured using the Adjusted Rand Index (ARI) and Normalized Mutual Information (NMI).\n",
    "\n",
    "agglo = AgglomerativeClustering(n_clusters=6)\n",
    "clusters_agglo = agglo.fit_predict(X_scaled)\n",
    "ari_agglo = adjusted_rand_score(y_all, clusters_agglo)\n",
    "nmi_agglo = normalized_mutual_info_score(y_all, clusters_agglo)\n",
    "\n",
    "print(\"\\n--- Model 5: Agglomerative Clustering ---\")\n",
    "print(\"Adjusted Rand Index (ARI): {:.3f}\".format(ari_agglo))\n",
    "print(\"Normalized Mutual Information (NMI): {:.3f}\".format(nmi_agglo))"
   ]
  },
  {
   "cell_type": "code",
   "execution_count": 45,
   "metadata": {
    "id": "GJ6mg50Loq5h"
   },
   "outputs": [],
   "source": [
    "# Comparison and Conclusion\n",
    "#\n",
    "# - Model 1 (Gradient Descent Regression):\n",
    "#   Using Age alone to predict disease type is overly simplistic, yielding high error and low explanatory power.\n",
    "#\n",
    "# - Model 2 (Random Forest Classifier):\n",
    "#   This supervised model achieves high accuracy and robust performance.\n",
    "#\n",
    "# - Model 3 (kNN Classifier):\n",
    "#   The kNN classifier also performs well, though it may be more sensitive to parameter choices.\n",
    "#\n",
    "# - Models 4 & 5 (Clustering):\n",
    "#   Both k-Means and Agglomerative Clustering exhibit moderate alignment with the true disease groups (based on ARI and NMI), suggesting that the features capture some inherent structure.\n",
    "#\n",
    "# For this diagnostic task, supervised classification (especially ensemble methods like Random Forest) is best suited. Clustering provides additional insights into the natural groupings within the feature space.\n",
    "#"
   ]
  }
 ],
 "metadata": {
  "colab": {
   "authorship_tag": "ABX9TyPWDgrnudK79IQwovD1qn9q",
   "provenance": []
  },
  "kernelspec": {
   "display_name": "Python [conda env:base] *",
   "language": "python",
   "name": "conda-base-py"
  },
  "language_info": {
   "codemirror_mode": {
    "name": "ipython",
    "version": 3
   },
   "file_extension": ".py",
   "mimetype": "text/x-python",
   "name": "python",
   "nbconvert_exporter": "python",
   "pygments_lexer": "ipython3",
   "version": "3.12.7"
  }
 },
 "nbformat": 4,
 "nbformat_minor": 4
}
